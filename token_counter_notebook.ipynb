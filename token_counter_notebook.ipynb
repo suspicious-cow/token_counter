{
 "cells": [
  {
   "cell_type": "markdown",
   "id": "39284a43",
   "metadata": {},
   "source": [
    "# Token Counter Notebook\n",
    "\n",
    "This notebook allows you to input text, retrieve outputs, and calculate token counts using OpenAI, Gemini, Anthropic, and Grok APIs."
   ]
  },
  {
   "cell_type": "markdown",
   "id": "294f2b80",
   "metadata": {},
   "source": [
    "## 1. Install and Import Required Libraries\n",
    "\n",
    "Install necessary libraries such as `openai`, `anthropic`, and others. Import required modules like `os` and `json`."
   ]
  },
  {
   "cell_type": "code",
   "execution_count": 1,
   "id": "8e441ae2",
   "metadata": {},
   "outputs": [
    {
     "name": "stderr",
     "output_type": "stream",
     "text": [
      "c:\\Users\\Zain_\\anaconda3\\envs\\all_llms\\Lib\\site-packages\\tqdm\\auto.py:21: TqdmWarning: IProgress not found. Please update jupyter and ipywidgets. See https://ipywidgets.readthedocs.io/en/stable/user_install.html\n",
      "  from .autonotebook import tqdm as notebook_tqdm\n"
     ]
    }
   ],
   "source": [
    "# Install required libraries (uncomment if running for the first time)\n",
    "# !pip install openai anthropic google-generativeai requests tiktoken\n",
    "\n",
    "import os\n",
    "import json\n",
    "import openai\n",
    "import anthropic\n",
    "import google.generativeai as genai\n",
    "import requests\n",
    "import tiktoken"
   ]
  },
  {
   "cell_type": "markdown",
   "id": "83c8ca06",
   "metadata": {},
   "source": [
    "## 2. Set Up API Keys\n",
    "\n",
    "Set up environment variables or directly define API keys for OpenAI, Gemini, Anthropic, and Grok."
   ]
  },
  {
   "cell_type": "code",
   "execution_count": 2,
   "id": "638367d2",
   "metadata": {},
   "outputs": [],
   "source": [
    "# Set your API keys here or load them from environment variables\n",
    "\n",
    "OPENAI_API_KEY = os.getenv(\"OPENAI_API_KEY\", \"your-openai-api-key\")\n",
    "ANTHROPIC_API_KEY = os.getenv(\"ANTHROPIC_API_KEY\", \"your-anthropic-api-key\")\n",
    "GEMINI_API_KEY = os.getenv(\"GEMINI_API_KEY\", \"your-gemini-api-key\")\n",
    "GROK_API_KEY = os.getenv(\"GROK_API_KEY\", \"your-grok-api-key\")\n",
    "\n",
    "# Set API keys for respective libraries\n",
    "openai.api_key = OPENAI_API_KEY\n",
    "genai.configure(api_key=GEMINI_API_KEY)"
   ]
  },
  {
   "cell_type": "markdown",
   "id": "9f1b2486",
   "metadata": {},
   "source": [
    "## 3. Define Helper Functions for Token Counting\n",
    "\n",
    "Write helper functions to calculate token counts for each API, ensuring compatibility with their respective tokenization methods."
   ]
  },
  {
   "cell_type": "code",
   "execution_count": 3,
   "id": "1af6c4d9",
   "metadata": {},
   "outputs": [],
   "source": [
    "def count_openai_tokens(text, model=\"gpt-3.5-turbo\"):\n",
    "    enc = tiktoken.encoding_for_model(model)\n",
    "    return len(enc.encode(text))\n",
    "\n",
    "def count_gemini_tokens(text):\n",
    "    # Gemini uses SentencePiece tokenizer, but for simplicity, use whitespace split as a proxy\n",
    "    return len(text.split())\n",
    "\n",
    "def count_anthropic_tokens(text):\n",
    "    # Anthropic uses Claude tokenizer, which is similar to GPT-3's\n",
    "    enc = tiktoken.get_encoding(\"cl100k_base\")\n",
    "    return len(enc.encode(text))\n",
    "\n",
    "def count_grok_tokens(text):\n",
    "    # Grok's tokenizer is not public; use whitespace split as a proxy\n",
    "    return len(text.split())"
   ]
  },
  {
   "cell_type": "markdown",
   "id": "ea36191c",
   "metadata": {},
   "source": [
    "## 4. Process Text with OpenAI API\n",
    "\n",
    "Send the input text to the OpenAI API, retrieve the output, and calculate the token count using the helper function."
   ]
  },
  {
   "cell_type": "code",
   "execution_count": 4,
   "id": "3aba21f0",
   "metadata": {},
   "outputs": [],
   "source": [
    "def process_with_openai(prompt, model=\"gpt-3.5-turbo\"):\n",
    "    try:\n",
    "        response = openai.ChatCompletion.create(\n",
    "            model=model,\n",
    "            messages=[{\"role\": \"user\", \"content\": prompt}]\n",
    "        )\n",
    "        output = response['choices'][0]['message']['content']\n",
    "        input_tokens = count_openai_tokens(prompt, model)\n",
    "        output_tokens = count_openai_tokens(output, model)\n",
    "        return output, input_tokens, output_tokens\n",
    "    except Exception as e:\n",
    "        return f\"OpenAI error: {str(e)}\", None, None\n",
    "\n",
    "# Example usage:\n",
    "# prompt = \"Explain the theory of relativity.\"\n",
    "# output, input_tokens, output_tokens = process_with_openai(prompt)\n",
    "# print(f\"Output: {output}\\nInput tokens: {input_tokens}\\nOutput tokens: {output_tokens}\")"
   ]
  },
  {
   "cell_type": "markdown",
   "id": "4374ab37",
   "metadata": {},
   "source": [
    "## 5. Process Text with Gemini API\n",
    "\n",
    "Send the input text to the Gemini API, retrieve the output, and calculate the token count using the helper function."
   ]
  },
  {
   "cell_type": "code",
   "execution_count": 5,
   "id": "bab4cccc",
   "metadata": {},
   "outputs": [],
   "source": [
    "def process_with_gemini(prompt, model=\"gemini-pro\"):\n",
    "    try:\n",
    "        model_obj = genai.GenerativeModel(model)\n",
    "        response = model_obj.generate_content(prompt)\n",
    "        output = getattr(response, 'text', None)\n",
    "        if not output:\n",
    "            output = str(response)\n",
    "        input_tokens = count_gemini_tokens(prompt)\n",
    "        output_tokens = count_gemini_tokens(output)\n",
    "        return output, input_tokens, output_tokens\n",
    "    except Exception as e:\n",
    "        return f\"Gemini error: {str(e)}\", None, None\n",
    "\n",
    "# Example usage:\n",
    "# output, input_tokens, output_tokens = process_with_gemini(prompt)\n",
    "# print(f\"Output: {output}\\nInput tokens: {input_tokens}\\nOutput tokens: {output_tokens}\")"
   ]
  },
  {
   "cell_type": "markdown",
   "id": "89c02840",
   "metadata": {},
   "source": [
    "## 6. Process Text with Anthropic API\n",
    "\n",
    "Send the input text to the Anthropic API, retrieve the output, and calculate the token count using the helper function."
   ]
  },
  {
   "cell_type": "code",
   "execution_count": 6,
   "id": "eb5d98dd",
   "metadata": {},
   "outputs": [],
   "source": [
    "def process_with_anthropic(prompt, model=\"claude-3-opus-20240229\"):\n",
    "    try:\n",
    "        client = anthropic.Anthropic(api_key=ANTHROPIC_API_KEY)\n",
    "        response = client.messages.create(\n",
    "            model=model,\n",
    "            max_tokens=512,\n",
    "            messages=[{\"role\": \"user\", \"content\": prompt}]\n",
    "        )\n",
    "        output = response.content[0].text\n",
    "        input_tokens = count_anthropic_tokens(prompt)\n",
    "        output_tokens = count_anthropic_tokens(output)\n",
    "        return output, input_tokens, output_tokens\n",
    "    except Exception as e:\n",
    "        return f\"Anthropic error: {str(e)}\", None, None\n",
    "\n",
    "# Example usage:\n",
    "# output, input_tokens, output_tokens = process_with_anthropic(prompt)\n",
    "# print(f\"Output: {output}\\nInput tokens: {input_tokens}\\nOutput tokens: {output_tokens}\")"
   ]
  },
  {
   "cell_type": "markdown",
   "id": "da12f0c7",
   "metadata": {},
   "source": [
    "## 7. Process Text with Grok API\n",
    "\n",
    "Send the input text to the Grok API, retrieve the output, and calculate the token count using the helper function."
   ]
  },
  {
   "cell_type": "code",
   "execution_count": 7,
   "id": "664cd833",
   "metadata": {},
   "outputs": [],
   "source": [
    "def process_with_grok(prompt):\n",
    "    try:\n",
    "        url = \"https://api.grok.x.ai/v1/chat/completions\"\n",
    "        headers = {\n",
    "            \"Authorization\": f\"Bearer {GROK_API_KEY}\",\n",
    "            \"Content-Type\": \"application/json\"\n",
    "        }\n",
    "        data = {\n",
    "            \"model\": \"grok-1\",\n",
    "            \"messages\": [{\"role\": \"user\", \"content\": prompt}]\n",
    "        }\n",
    "        response = requests.post(url, headers=headers, data=json.dumps(data), timeout=15)\n",
    "        if response.status_code == 200:\n",
    "            output = response.json()['choices'][0]['message']['content']\n",
    "        else:\n",
    "            output = f\"Grok API error: {response.status_code} - {response.text}\"\n",
    "        input_tokens = count_grok_tokens(prompt)\n",
    "        output_tokens = count_grok_tokens(output)\n",
    "        return output, input_tokens, output_tokens\n",
    "    except Exception as e:\n",
    "        return f\"Grok error: {str(e)}\", None, None\n",
    "\n",
    "# Example usage:\n",
    "# output, input_tokens, output_tokens = process_with_grok(prompt)\n",
    "# print(f\"Output: {output}\\nInput tokens: {input_tokens}\\nOutput tokens: {output_tokens}\")"
   ]
  },
  {
   "cell_type": "markdown",
   "id": "16b09ee1",
   "metadata": {},
   "source": [
    "## 8. Enter Your Prompt\n",
    "\n",
    "Define your input text in the variable below. This prompt will be sent to all four APIs."
   ]
  },
  {
   "cell_type": "code",
   "execution_count": 8,
   "id": "c1af8226",
   "metadata": {},
   "outputs": [],
   "source": [
    "# Enter your prompt here\n",
    "prompt = 'Explain the theory of relativity in simple terms.'"
   ]
  },
  {
   "cell_type": "markdown",
   "id": "0c9323d1",
   "metadata": {},
   "source": [
    "## 9. Run All APIs and Compare Results\n",
    "\n",
    "This cell will send your prompt to OpenAI, Gemini, Anthropic, and Grok, then display their outputs and token counts."
   ]
  },
  {
   "cell_type": "code",
   "execution_count": 9,
   "id": "72c008eb",
   "metadata": {},
   "outputs": [
    {
     "data": {
      "text/html": [
       "<div>\n",
       "<style scoped>\n",
       "    .dataframe tbody tr th:only-of-type {\n",
       "        vertical-align: middle;\n",
       "    }\n",
       "\n",
       "    .dataframe tbody tr th {\n",
       "        vertical-align: top;\n",
       "    }\n",
       "\n",
       "    .dataframe thead th {\n",
       "        text-align: right;\n",
       "    }\n",
       "</style>\n",
       "<table border=\"1\" class=\"dataframe\">\n",
       "  <thead>\n",
       "    <tr style=\"text-align: right;\">\n",
       "      <th></th>\n",
       "      <th>output</th>\n",
       "      <th>input_tokens</th>\n",
       "      <th>output_tokens</th>\n",
       "    </tr>\n",
       "  </thead>\n",
       "  <tbody>\n",
       "    <tr>\n",
       "      <th>OpenAI</th>\n",
       "      <td>OpenAI error: \\n\\nYou tried to access openai.C...</td>\n",
       "      <td>NaN</td>\n",
       "      <td>NaN</td>\n",
       "    </tr>\n",
       "    <tr>\n",
       "      <th>Gemini</th>\n",
       "      <td>Gemini error: 404 models/gemini-pro is not fou...</td>\n",
       "      <td>NaN</td>\n",
       "      <td>NaN</td>\n",
       "    </tr>\n",
       "    <tr>\n",
       "      <th>Anthropic</th>\n",
       "      <td>The theory of relativity, developed by Albert ...</td>\n",
       "      <td>11.0</td>\n",
       "      <td>303.0</td>\n",
       "    </tr>\n",
       "    <tr>\n",
       "      <th>Grok</th>\n",
       "      <td>Grok error: HTTPSConnectionPool(host='api.grok...</td>\n",
       "      <td>NaN</td>\n",
       "      <td>NaN</td>\n",
       "    </tr>\n",
       "  </tbody>\n",
       "</table>\n",
       "</div>"
      ],
      "text/plain": [
       "                                                      output  input_tokens  \\\n",
       "OpenAI     OpenAI error: \\n\\nYou tried to access openai.C...           NaN   \n",
       "Gemini     Gemini error: 404 models/gemini-pro is not fou...           NaN   \n",
       "Anthropic  The theory of relativity, developed by Albert ...          11.0   \n",
       "Grok       Grok error: HTTPSConnectionPool(host='api.grok...           NaN   \n",
       "\n",
       "           output_tokens  \n",
       "OpenAI               NaN  \n",
       "Gemini               NaN  \n",
       "Anthropic          303.0  \n",
       "Grok                 NaN  "
      ]
     },
     "metadata": {},
     "output_type": "display_data"
    }
   ],
   "source": [
    "results = {}\n",
    "# OpenAI\n",
    "try:\n",
    "    output, in_tok, out_tok = process_with_openai(prompt)\n",
    "    results['OpenAI'] = {'output': output, 'input_tokens': in_tok, 'output_tokens': out_tok}\n",
    "except Exception as e:\n",
    "    results['OpenAI'] = {'output': str(e), 'input_tokens': None, 'output_tokens': None}\n",
    "# Gemini\n",
    "try:\n",
    "    output, in_tok, out_tok = process_with_gemini(prompt)\n",
    "    results['Gemini'] = {'output': output, 'input_tokens': in_tok, 'output_tokens': out_tok}\n",
    "except Exception as e:\n",
    "    results['Gemini'] = {'output': str(e), 'input_tokens': None, 'output_tokens': None}\n",
    "# Anthropic\n",
    "try:\n",
    "    output, in_tok, out_tok = process_with_anthropic(prompt)\n",
    "    results['Anthropic'] = {'output': output, 'input_tokens': in_tok, 'output_tokens': out_tok}\n",
    "except Exception as e:\n",
    "    results['Anthropic'] = {'output': str(e), 'input_tokens': None, 'output_tokens': None}\n",
    "# Grok\n",
    "try:\n",
    "    output, in_tok, out_tok = process_with_grok(prompt)\n",
    "    results['Grok'] = {'output': output, 'input_tokens': in_tok, 'output_tokens': out_tok}\n",
    "except Exception as e:\n",
    "    results['Grok'] = {'output': str(e), 'input_tokens': None, 'output_tokens': None}\n",
    "import pandas as pd\n",
    "df = pd.DataFrame.from_dict(results, orient='index')\n",
    "display(df)\n",
    "\n",
    "# Optionally, print each output separately\n",
    "# for api, res in results.items():\n",
    "#     print(f'--- {api} ---')\n",
    "#     print(f'Output: {res[\"output\"]}\\nInput tokens: {res[\"input_tokens\"]}\\nOutput tokens: {res[\"output_tokens\"]}\\n')"
   ]
  },
  {
   "cell_type": "code",
   "execution_count": null,
   "id": "acb6d2c6",
   "metadata": {},
   "outputs": [],
   "source": [
    "# Output all results and errors to a text file for easier reading\n",
    "with open('api_results_dump.txt', 'w', encoding='utf-8') as f:\n",
    "    for api, res in results.items():\n",
    "        f.write(f'--- {api} ---\\n')\n",
    "        f.write(f'Output: {res[\"output\"]}\\nInput tokens: {res[\"input_tokens\"]}\\nOutput tokens: {res[\"output_tokens\"]}\\n\\n')\n",
    "print('Results dumped to api_results_dump.txt')"
   ]
  },
  {
   "cell_type": "code",
   "execution_count": null,
   "id": "3376ef76",
   "metadata": {},
   "outputs": [],
   "source": [
    "# Make output cells take full width\n",
    "from IPython.core.display import HTML\n",
    "HTML(\"<style>.jp-OutputArea-output { max-width: 100vw !important; }</style>\")"
   ]
  }
 ],
 "metadata": {
  "kernelspec": {
   "display_name": "all_llms",
   "language": "python",
   "name": "python3"
  },
  "language_info": {
   "codemirror_mode": {
    "name": "ipython",
    "version": 3
   },
   "file_extension": ".py",
   "mimetype": "text/x-python",
   "name": "python",
   "nbconvert_exporter": "python",
   "pygments_lexer": "ipython3",
   "version": "3.13.3"
  }
 },
 "nbformat": 4,
 "nbformat_minor": 5
}
